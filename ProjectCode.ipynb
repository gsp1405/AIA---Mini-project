{
 "cells": [
  {
   "cell_type": "code",
   "execution_count": 2,
   "metadata": {},
   "outputs": [],
   "source": [
    "import numpy as np\n",
    "import matplotlib.pyplot as plt\n",
    "import cv2\n",
    "import imageio\n",
    "from scipy.ndimage import gaussian_filter1d, prewitt\n"
   ]
  },
  {
   "cell_type": "code",
   "execution_count": 3,
   "metadata": {},
   "outputs": [
    {
     "data": {
      "image/png": "[encoded data removed]",
      "text/plain": [
       "<Figure size 432x288 with 2 Axes>"
      ]
     },
     "metadata": {
      "needs_background": "light"
     },
     "output_type": "display_data"
    }
   ],
   "source": [
    "# Load 2 example images\n",
    "Im1 = imageio.imread(\"optical_flow_data/composedIm_1.png\")\n",
    "Im2 = imageio.imread(\"optical_flow_data/composedIm_2.png\")\n",
    "\n",
    "fig, ax = plt.subplots(1, 2)\n",
    "ax[0].imshow(Im1, cmap='gray')\n",
    "ax[1].imshow(Im2, cmap='gray')\n",
    "plt.show()"
   ]
  },
  {
   "cell_type": "code",
   "execution_count": 34,
   "metadata": {},
   "outputs": [
    {
     "data": {
      "image/png": "[encoded data removed]",
      "text/plain": [
       "<Figure size 432x288 with 2 Axes>"
      ]
     },
     "metadata": {
      "needs_background": "light"
     },
     "output_type": "display_data"
    },
    {
     "data": {
      "image/png": "[encoded data removed]",
      "text/plain": [
       "<Figure size 432x288 with 1 Axes>"
      ]
     },
     "metadata": {
      "needs_background": "light"
     },
     "output_type": "display_data"
    }
   ],
   "source": [
    "# Obtain the spacial derivatives\n",
    "filter_x = np.array([[-1, 0, 1]])\n",
    "filter_y = np.array([[-1], [0], [1]])\n",
    "\n",
    "Im1_x = cv2.filter2D(Im1, cv2.CV_8U, filter_x)\n",
    "Im1_y = cv2.filter2D(Im1, cv2.CV_8U, filter_y)\n",
    "fig, ax = plt.subplots(1, 2)\n",
    "ax[0].imshow(Im1_x, cmap='gray')\n",
    "ax[1].imshow(Im1_y, cmap='gray')\n",
    "plt.show()\n",
    "\n",
    "# Obtain the time derivative\n",
    "Im_t = Im1 - Im2\n",
    "plt.imshow(Im_t, cmap='gray')\n",
    "plt.show()\n",
    "\n"
   ]
  },
  {
   "cell_type": "code",
   "execution_count": 35,
   "metadata": {},
   "outputs": [
    {
     "name": "stdout",
     "output_type": "stream",
     "text": [
      "[[ 0.  9.]\n",
      " [ 9.  0.]\n",
      " [ 0.  0.]\n",
      " [ 0.  1.]\n",
      " [ 0.  0.]\n",
      " [ 0.  0.]\n",
      " [ 0.  0.]\n",
      " [ 0.  0.]\n",
      " [10.  0.]]\n",
      "[  4.   8. 168.  38.  82. 215.  22.  25. 241.]\n",
      "[13.71270718  0.90243902]\n"
     ]
    }
   ],
   "source": [
    "row, col = (5, 4)\n",
    "# Obtain the matrices A and b\n",
    "A = np.zeros((9, 2))\n",
    "b = np.zeros(9)\n",
    "k = 0\n",
    "for i in range(-1, 2):\n",
    "    for j in range(-1, 2):\n",
    "        A[k, 0] = Im1_x[col - 1 + j, row - 1 + i]\n",
    "        A[k, 1] = Im1_y[col - 1 + j, row - 1 + i]\n",
    "        b[k] = Im_t[col - 1 + j, row - 1 + i]\n",
    "        k += 1\n",
    "\n",
    "print(A)\n",
    "print(b)\n",
    "\n",
    "# Obtain the optical flow in the given pixel\n",
    "ATA_inv = np.linalg.inv(np.matmul(A.T, A))\n",
    "ATb = np.matmul(A.T, b)\n",
    "u = np.matmul(ATA_inv, ATb)\n",
    "print(u)\n",
    "\n"
   ]
  },
  {
   "cell_type": "code",
   "execution_count": 36,
   "metadata": {},
   "outputs": [
    {
     "data": {
      "image/png": "[encoded data removed]",
      "text/plain": [
       "<Figure size 432x288 with 1 Axes>"
      ]
     },
     "metadata": {
      "needs_background": "light"
     },
     "output_type": "display_data"
    }
   ],
   "source": [
    "x_vals = [col - 1, col - 1 + u[0]]\n",
    "y_vals = [row - 1, row - 1 + u[1]]\n",
    "plt.arrow(col - 1, row - 1, u[0], u[1])\n",
    "plt.plot(5, 4, '*')\n",
    "plt.imshow(Im1, cmap='gray')\n",
    "plt.show()"
   ]
  }
 ],
 "metadata": {
  "interpreter": {
   "hash": "62119ebab5caa763156011806c89087edb358d17743f662c37bcd5109bc8634b"
  },
  "kernelspec": {
   "display_name": "venv",
   "language": "python",
   "name": "python3"
  },
  "language_info": {
   "codemirror_mode": {
    "name": "ipython",
    "version": 3
   },
   "file_extension": ".py",
   "mimetype": "text/x-python",
   "name": "python",
   "nbconvert_exporter": "python",
   "pygments_lexer": "ipython3",
   "version": "3.9.1"
  },
  "orig_nbformat": 4
 },
 "nbformat": 4,
 "nbformat_minor": 2
}
